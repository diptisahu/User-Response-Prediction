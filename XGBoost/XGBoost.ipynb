{
 "cells": [
  {
   "cell_type": "code",
   "execution_count": 2,
   "id": "99101680",
   "metadata": {},
   "outputs": [],
   "source": [
    "import pandas as pd\n",
    "import numpy as np\n",
    "import xgboost as xgb\n",
    "from sklearn.model_selection import train_test_split\n",
    "from sklearn.metrics import balanced_accuracy_score, roc_auc_score, make_scorer\n",
    "from sklearn.model_selection import GridSearchCV\n",
    "from sklearn.metrics import confusion_matrix, plot_confusion_matrix"
   ]
  },
  {
   "cell_type": "code",
   "execution_count": 3,
   "id": "bd8e9f61",
   "metadata": {},
   "outputs": [
    {
     "name": "stdout",
     "output_type": "stream",
     "text": [
      "Pos: 1281, Neg: 1998718\n"
     ]
    }
   ],
   "source": [
    "filename = \"../../data/iPinYou-all/hdf/train_input_part_0.h5\"\n",
    "with pd.HDFStore(filename, mode='r') as hdf_y:\n",
    "    input_data = pd.read_hdf(hdf_y)\n",
    "\n",
    "filename = \"../../data/iPinYou-all/hdf/train_output_part_0.h5\"\n",
    "with pd.HDFStore(filename, mode='r') as hdf_y:\n",
    "    tgt_data = pd.read_hdf(hdf_y)\n",
    "    pos_neg = np.sum(tgt_data['click'] == 1)\n",
    "    num_neg = np.sum(tgt_data['click'] == 0)\n",
    "    print (\"Pos: %d, Neg: %d\" % (pos_neg, num_neg))\n",
    "\n",
    "final_data = pd.concat([input_data, tgt_data], axis=1, join='inner')\n",
    "input_columns=['weekday', 'hour', 'IP', 'region', 'city', 'adexchange', 'domain',\n",
    "   'slotid', 'slotwidth', 'slotheight', 'slotvisibility', 'slotformat',\n",
    "   'creative', 'advertiser', 'useragent', 'slotprice']\n",
    "sparse_features = ['weekday', 'hour', 'region', 'city', 'adexchange', 'slotwidth', 'slotheight', \\\n",
    "        'slotvisibility', 'slotformat', 'creative', 'advertiser', 'useragent', 'slotprice', \\\n",
    "        'IP', 'domain', 'slotid']\n",
    "dense_features = []\n",
    "target= 'click'"
   ]
  },
  {
   "cell_type": "code",
   "execution_count": 4,
   "id": "6d90ee25",
   "metadata": {},
   "outputs": [
    {
     "data": {
      "text/html": [
       "<div>\n",
       "<style scoped>\n",
       "    .dataframe tbody tr th:only-of-type {\n",
       "        vertical-align: middle;\n",
       "    }\n",
       "\n",
       "    .dataframe tbody tr th {\n",
       "        vertical-align: top;\n",
       "    }\n",
       "\n",
       "    .dataframe thead th {\n",
       "        text-align: right;\n",
       "    }\n",
       "</style>\n",
       "<table border=\"1\" class=\"dataframe\">\n",
       "  <thead>\n",
       "    <tr style=\"text-align: right;\">\n",
       "      <th></th>\n",
       "      <th>weekday</th>\n",
       "      <th>hour</th>\n",
       "      <th>IP</th>\n",
       "      <th>region</th>\n",
       "      <th>city</th>\n",
       "      <th>adexchange</th>\n",
       "      <th>domain</th>\n",
       "      <th>slotid</th>\n",
       "      <th>slotwidth</th>\n",
       "      <th>slotheight</th>\n",
       "      <th>slotvisibility</th>\n",
       "      <th>slotformat</th>\n",
       "      <th>creative</th>\n",
       "      <th>advertiser</th>\n",
       "      <th>useragent</th>\n",
       "      <th>slotprice</th>\n",
       "      <th>click</th>\n",
       "    </tr>\n",
       "  </thead>\n",
       "  <tbody>\n",
       "    <tr>\n",
       "      <th>0</th>\n",
       "      <td>5</td>\n",
       "      <td>9</td>\n",
       "      <td>129214</td>\n",
       "      <td>705001</td>\n",
       "      <td>705056</td>\n",
       "      <td>705406</td>\n",
       "      <td>745192</td>\n",
       "      <td>936648</td>\n",
       "      <td>937446</td>\n",
       "      <td>937463</td>\n",
       "      <td>937465</td>\n",
       "      <td>937478</td>\n",
       "      <td>937525</td>\n",
       "      <td>937621</td>\n",
       "      <td>937655</td>\n",
       "      <td>937665</td>\n",
       "      <td>0</td>\n",
       "    </tr>\n",
       "    <tr>\n",
       "      <th>1</th>\n",
       "      <td>5</td>\n",
       "      <td>9</td>\n",
       "      <td>533685</td>\n",
       "      <td>705018</td>\n",
       "      <td>705257</td>\n",
       "      <td>705407</td>\n",
       "      <td>737280</td>\n",
       "      <td>873692</td>\n",
       "      <td>937438</td>\n",
       "      <td>937457</td>\n",
       "      <td>937467</td>\n",
       "      <td>937477</td>\n",
       "      <td>937521</td>\n",
       "      <td>937619</td>\n",
       "      <td>937657</td>\n",
       "      <td>937666</td>\n",
       "      <td>0</td>\n",
       "    </tr>\n",
       "    <tr>\n",
       "      <th>2</th>\n",
       "      <td>5</td>\n",
       "      <td>9</td>\n",
       "      <td>619037</td>\n",
       "      <td>705033</td>\n",
       "      <td>705400</td>\n",
       "      <td>705406</td>\n",
       "      <td>745683</td>\n",
       "      <td>935566</td>\n",
       "      <td>937446</td>\n",
       "      <td>937463</td>\n",
       "      <td>937465</td>\n",
       "      <td>937478</td>\n",
       "      <td>937597</td>\n",
       "      <td>937619</td>\n",
       "      <td>937655</td>\n",
       "      <td>937665</td>\n",
       "      <td>0</td>\n",
       "    </tr>\n",
       "    <tr>\n",
       "      <th>3</th>\n",
       "      <td>5</td>\n",
       "      <td>9</td>\n",
       "      <td>264384</td>\n",
       "      <td>705033</td>\n",
       "      <td>705400</td>\n",
       "      <td>705406</td>\n",
       "      <td>751770</td>\n",
       "      <td>935528</td>\n",
       "      <td>937436</td>\n",
       "      <td>937456</td>\n",
       "      <td>937467</td>\n",
       "      <td>937478</td>\n",
       "      <td>937532</td>\n",
       "      <td>937620</td>\n",
       "      <td>937655</td>\n",
       "      <td>937665</td>\n",
       "      <td>0</td>\n",
       "    </tr>\n",
       "    <tr>\n",
       "      <th>4</th>\n",
       "      <td>5</td>\n",
       "      <td>9</td>\n",
       "      <td>633959</td>\n",
       "      <td>705010</td>\n",
       "      <td>705162</td>\n",
       "      <td>705406</td>\n",
       "      <td>750179</td>\n",
       "      <td>937217</td>\n",
       "      <td>937436</td>\n",
       "      <td>937456</td>\n",
       "      <td>937465</td>\n",
       "      <td>937479</td>\n",
       "      <td>937598</td>\n",
       "      <td>937619</td>\n",
       "      <td>937628</td>\n",
       "      <td>937665</td>\n",
       "      <td>0</td>\n",
       "    </tr>\n",
       "  </tbody>\n",
       "</table>\n",
       "</div>"
      ],
      "text/plain": [
       "   weekday  hour      IP  region    city  adexchange  domain  slotid  \\\n",
       "0        5     9  129214  705001  705056      705406  745192  936648   \n",
       "1        5     9  533685  705018  705257      705407  737280  873692   \n",
       "2        5     9  619037  705033  705400      705406  745683  935566   \n",
       "3        5     9  264384  705033  705400      705406  751770  935528   \n",
       "4        5     9  633959  705010  705162      705406  750179  937217   \n",
       "\n",
       "   slotwidth  slotheight  slotvisibility  slotformat  creative  advertiser  \\\n",
       "0     937446      937463          937465      937478    937525      937621   \n",
       "1     937438      937457          937467      937477    937521      937619   \n",
       "2     937446      937463          937465      937478    937597      937619   \n",
       "3     937436      937456          937467      937478    937532      937620   \n",
       "4     937436      937456          937465      937479    937598      937619   \n",
       "\n",
       "   useragent  slotprice  click  \n",
       "0     937655     937665      0  \n",
       "1     937657     937666      0  \n",
       "2     937655     937665      0  \n",
       "3     937655     937665      0  \n",
       "4     937628     937665      0  "
      ]
     },
     "execution_count": 4,
     "metadata": {},
     "output_type": "execute_result"
    }
   ],
   "source": [
    "final_data.head()"
   ]
  },
  {
   "cell_type": "code",
   "execution_count": 5,
   "id": "1fb8933b",
   "metadata": {},
   "outputs": [],
   "source": [
    "X = final_data.drop(target, axis=1).copy()\n",
    "y = final_data[target].copy()"
   ]
  },
  {
   "cell_type": "code",
   "execution_count": 6,
   "id": "96bf5c12",
   "metadata": {},
   "outputs": [
    {
     "data": {
      "text/plain": [
       "array([0, 1])"
      ]
     },
     "execution_count": 6,
     "metadata": {},
     "output_type": "execute_result"
    }
   ],
   "source": [
    "y.unique()"
   ]
  },
  {
   "cell_type": "code",
   "execution_count": 7,
   "id": "bbc27e8c",
   "metadata": {},
   "outputs": [],
   "source": [
    "# Do one hot encoding if you want\n",
    "# Use sklearn or pandas one hot encoding\n",
    "X_encoded = X"
   ]
  },
  {
   "cell_type": "code",
   "execution_count": 8,
   "id": "504bdf53",
   "metadata": {},
   "outputs": [
    {
     "name": "stderr",
     "output_type": "stream",
     "text": [
      "C:\\Users\\dipti\\anaconda3\\lib\\site-packages\\xgboost\\sklearn.py:1224: UserWarning: The use of label encoder in XGBClassifier is deprecated and will be removed in a future release. To remove this warning, do the following: 1) Pass option use_label_encoder=False when constructing XGBClassifier object; and 2) Encode your labels (y) as integers starting with 0, i.e. 0, 1, 2, ..., [num_class - 1].\n",
      "  warnings.warn(label_encoder_deprecation_msg, UserWarning)\n"
     ]
    },
    {
     "name": "stdout",
     "output_type": "stream",
     "text": [
      "[12:57:56] WARNING: C:/Users/Administrator/workspace/xgboost-win64_release_1.5.1/src/learner.cc:576: \n",
      "Parameters: { \"learn_rate\" } might not be used.\n",
      "\n",
      "  This could be a false alarm, with some parameters getting used by language bindings but\n",
      "  then being mistakenly passed down to XGBoost core, or some parameter actually being used\n",
      "  but getting flagged wrongly here. Please open an issue if you find any such cases.\n",
      "\n",
      "\n",
      "[0]\tvalidation_0-auc:0.58890\n",
      "[1]\tvalidation_0-auc:0.60226\n",
      "[2]\tvalidation_0-auc:0.65912\n",
      "[3]\tvalidation_0-auc:0.68408\n",
      "[4]\tvalidation_0-auc:0.68482\n",
      "[5]\tvalidation_0-auc:0.70238\n",
      "[6]\tvalidation_0-auc:0.70294\n",
      "[7]\tvalidation_0-auc:0.70782\n",
      "[8]\tvalidation_0-auc:0.69340\n",
      "[9]\tvalidation_0-auc:0.69093\n",
      "[10]\tvalidation_0-auc:0.68828\n",
      "[11]\tvalidation_0-auc:0.69934\n",
      "[12]\tvalidation_0-auc:0.69556\n",
      "[13]\tvalidation_0-auc:0.71080\n",
      "[14]\tvalidation_0-auc:0.72311\n",
      "[15]\tvalidation_0-auc:0.72079\n",
      "[16]\tvalidation_0-auc:0.72143\n",
      "[17]\tvalidation_0-auc:0.71853\n",
      "[18]\tvalidation_0-auc:0.71596\n",
      "[19]\tvalidation_0-auc:0.72215\n",
      "[20]\tvalidation_0-auc:0.71511\n",
      "[21]\tvalidation_0-auc:0.71761\n",
      "[22]\tvalidation_0-auc:0.71164\n",
      "[23]\tvalidation_0-auc:0.71351\n"
     ]
    }
   ],
   "source": [
    "X_train, X_test, y_train, y_test = train_test_split(X_encoded, y, test_size=0.2, random_state=2020, stratify=y)\n",
    "clf_xgb = xgb.XGBClassifier(objective='binary:logistic',\n",
    "                            gamma=0.25,\n",
    "                            learn_rate=0.1,\n",
    "                            max_depth=5,\n",
    "                            reg_lambda=0.5,\n",
    "                            scale_pos_weight=3,\n",
    "                            subsample=0.9,\n",
    "                            n_estimators=100,\n",
    "#                             use_label_encoder=False,\n",
    "                            seed=2020)\n",
    "clf_xgb.fit(X_train,\n",
    "            y_train,\n",
    "            verbose=True,\n",
    "            early_stopping_rounds=10,\n",
    "            eval_metric='auc',     # used logloss as well\n",
    "            eval_set=[(X_test, y_test)])\n",
    "\n",
    "bst = clf_xgb.get_booster()"
   ]
  },
  {
   "cell_type": "code",
   "execution_count": 9,
   "id": "d8cca069",
   "metadata": {},
   "outputs": [
    {
     "data": {
      "text/plain": [
       "<xgboost.core.Booster at 0x221d6c70cd0>"
      ]
     },
     "execution_count": 9,
     "metadata": {},
     "output_type": "execute_result"
    }
   ],
   "source": [
    "bst"
   ]
  },
  {
   "cell_type": "code",
   "execution_count": null,
   "id": "0ef812d1",
   "metadata": {},
   "outputs": [],
   "source": []
  }
 ],
 "metadata": {
  "kernelspec": {
   "display_name": "Python 3 (ipykernel)",
   "language": "python",
   "name": "python3"
  },
  "language_info": {
   "codemirror_mode": {
    "name": "ipython",
    "version": 3
   },
   "file_extension": ".py",
   "mimetype": "text/x-python",
   "name": "python",
   "nbconvert_exporter": "python",
   "pygments_lexer": "ipython3",
   "version": "3.9.7"
  }
 },
 "nbformat": 4,
 "nbformat_minor": 5
}
